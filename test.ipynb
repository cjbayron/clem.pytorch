{
 "cells": [
  {
   "cell_type": "code",
   "execution_count": 23,
   "metadata": {},
   "outputs": [],
   "source": [
    "import numpy as np\n",
    "import torch\n",
    "\n",
    "from learners import Learner, GEM, AGEM"
   ]
  },
  {
   "cell_type": "code",
   "execution_count": 2,
   "metadata": {},
   "outputs": [],
   "source": [
    "seed = 42\n",
    "n_tasks = 5"
   ]
  },
  {
   "cell_type": "markdown",
   "metadata": {},
   "source": [
    "### Download MNIST"
   ]
  },
  {
   "cell_type": "code",
   "execution_count": 3,
   "metadata": {},
   "outputs": [],
   "source": [
    "# Copyright 2017-present, Facebook, Inc.\n",
    "# All rights reserved.\n",
    "#\n",
    "# This source code is licensed under the license found in the\n",
    "# LICENSE file in the root directory of this source tree.\n",
    "\n",
    "import subprocess\n",
    "\n",
    "mnist_path = \"data/mnist.npz\"\n",
    "\n",
    "# URL from: https://github.com/fchollet/keras/blob/master/keras/datasets/mnist.py\n",
    "if not os.path.exists(mnist_path):\n",
    "    subprocess.call(\"wget https://s3.amazonaws.com/img-datasets/mnist.npz\", shell=True)\n",
    "    !mv mnist.npz data/\n",
    "\n",
    "f = np.load('data/mnist.npz')\n",
    "x_tr = torch.from_numpy(f['x_train'])\n",
    "y_tr = torch.from_numpy(f['y_train']).long()\n",
    "x_te = torch.from_numpy(f['x_test'])\n",
    "y_te = torch.from_numpy(f['y_test']).long()\n",
    "f.close()\n",
    "\n",
    "torch.save((x_tr, y_tr), 'data/mnist_train.pt')\n",
    "torch.save((x_te, y_te), 'data/mnist_test.pt')"
   ]
  },
  {
   "cell_type": "markdown",
   "metadata": {},
   "source": [
    "### Preprocessing and Train/Test Split"
   ]
  },
  {
   "cell_type": "code",
   "execution_count": 4,
   "metadata": {},
   "outputs": [],
   "source": [
    "torch.manual_seed(seed)\n",
    "\n",
    "x_tr, y_tr = torch.load('data/mnist_train.pt') # 60000 samples\n",
    "x_te, y_te = torch.load('data/mnist_test.pt') # 10000 samples\n",
    "\n",
    "# reshape and normalize data\n",
    "x_tr = x_tr.float().view(x_tr.size(0), -1) / 255.0\n",
    "x_te = x_te.float().view(x_te.size(0), -1) / 255.0\n",
    "y_tr = y_tr.view(-1).long()\n",
    "y_te = y_te.view(-1).long()\n",
    "\n",
    "# shuffle datasets\n",
    "p_tr = torch.randperm(x_tr.size(0))\n",
    "p_te = torch.randperm(x_te.size(0))\n",
    "\n",
    "x_tr, y_tr = x_tr[p_tr], y_tr[p_tr]\n",
    "x_te, y_te = x_te[p_te], y_te[p_te]"
   ]
  },
  {
   "cell_type": "markdown",
   "metadata": {},
   "source": [
    "### Split MNIST"
   ]
  },
  {
   "cell_type": "code",
   "execution_count": null,
   "metadata": {},
   "outputs": [],
   "source": [
    "tr_task_size = 10000\n",
    "te_task_size = 2000\n",
    "\n",
    "tasks_tr = []\n",
    "tasks_te = []\n",
    "\n",
    "for t in range(n_tasks):\n",
    "    tasks_tr.append([x_tr[t*tr_task_size:(t+1)*tr_task_size], y_tr[t*tr_task_size:(t+1)*tr_task_size]])\n",
    "    tasks_te.append([x_te[t*te_task_size:(t+1)*te_task_size], y_te[t*te_task_size:(t+1)*te_task_size]])\n",
    "\n",
    "torch.save([tasks_tr, tasks_te], 'data/mnist_splitted.pt')\n",
    "torch.save([[x_tr[:(tr_task_size*n_tasks)], y_tr[:(tr_task_size*n_tasks)]],\n",
    "            [x_te[:(te_task_size*n_tasks)], y_te[:(te_task_size*n_tasks)]]], 'data/mnist_all.pt')"
   ]
  },
  {
   "cell_type": "markdown",
   "metadata": {},
   "source": [
    "### Skewed Split: For simulating training on unbalanced datasets"
   ]
  },
  {
   "cell_type": "code",
   "execution_count": 28,
   "metadata": {},
   "outputs": [
    {
     "name": "stdout",
     "output_type": "stream",
     "text": [
      "Counter({1: 1135, 2: 1032, 7: 1028, 3: 1010, 9: 1009, 4: 982, 0: 980, 8: 974, 6: 958, 5: 892})\n",
      "Counter({1: 681, 0: 588, 2: 103, 7: 102, 3: 101, 9: 100, 4: 98, 8: 97, 6: 95, 5: 89})\n",
      "Counter({2: 619, 3: 606, 1: 113, 7: 102, 9: 100, 0: 98, 4: 98, 8: 97, 6: 95, 5: 89})\n",
      "Counter({4: 589, 5: 535, 1: 113, 2: 103, 7: 102, 3: 101, 9: 100, 0: 98, 8: 97, 6: 95})\n",
      "Counter({7: 616, 6: 574, 1: 113, 2: 103, 3: 101, 9: 100, 0: 98, 4: 98, 8: 97, 5: 89})\n",
      "Counter({9: 605, 8: 584, 1: 113, 2: 103, 7: 102, 3: 101, 0: 98, 4: 98, 6: 95, 5: 89})\n"
     ]
    }
   ],
   "source": [
    "from collections import Counter\n",
    "\n",
    "# probability for each class in each split\n",
    "# each row correspond to a split. each column correspond to a class (0-9)\n",
    "# a cell tells what percentage of data to get from a class, to include in a split\n",
    "class_probs = [\n",
    "    [0.6, 0.6, 0.1, 0.1, 0.1, 0.1, 0.1, 0.1, 0.1, 0.1],\n",
    "    [0.1, 0.1, 0.6, 0.6, 0.1, 0.1, 0.1, 0.1, 0.1, 0.1],\n",
    "    [0.1, 0.1, 0.1, 0.1, 0.6, 0.6, 0.1, 0.1, 0.1, 0.1],\n",
    "    [0.1, 0.1, 0.1, 0.1, 0.1, 0.1, 0.6, 0.6, 0.1, 0.1],\n",
    "    [0.1, 0.1, 0.1, 0.1, 0.1, 0.1, 0.1, 0.1, 0.6, 0.6],\n",
    "]\n",
    "\n",
    "def skewed_split(X, y, class_probs):\n",
    "    '''\n",
    "    '''\n",
    "    count_dict = Counter(y.numpy()) # count_dict[class] = num_of_data_in_class\n",
    "    indices_per_class = [(y==c).nonzero().squeeze() for c in range(len(count_dict))]\n",
    "    # generate random indices TO INDEX THE ACTUAL INDICES for each class\n",
    "    idxs = [torch.randperm(count_dict[i]) for i in range(len(count_dict))]\n",
    "    for prob_set in class_probs:\n",
    "        idxs_to_get = []\n",
    "        for i in range(len(prob_set)):\n",
    "            end_idx = int(prob_set[i]*count_dict[i])\n",
    "            idxs_to_get.append(indices_per_class[i][idxs[i][:end_idx]])\n",
    "            # update indices, we treat the idxs like a stack where we\n",
    "            # remove indices we have already used\n",
    "            idxs[i] = idxs[i][end_idx:]\n",
    "        \n",
    "        idxs_to_get = torch.cat(idxs_to_get)\n",
    "        yield X[idxs_to_get], y[idxs_to_get]\n",
    "\n",
    "\n",
    "# print(Counter(y_te.numpy()))        \n",
    "# for new_x, new_y in skewed_split(x_te, y_te, class_probs):\n",
    "#     print(Counter(new_y.numpy()))"
   ]
  },
  {
   "cell_type": "markdown",
   "metadata": {},
   "source": [
    "### ML Model"
   ]
  },
  {
   "cell_type": "code",
   "execution_count": 29,
   "metadata": {},
   "outputs": [],
   "source": [
    "import torch.nn as nn\n",
    "\n",
    "class Classifier(nn.Module):\n",
    "    def __init__(self, input_size, hidden_size, drop_prob, output_size):\n",
    "        super(Classifier, self).__init__()\n",
    "        \n",
    "        self.relu = nn.ReLU()\n",
    "        self.dropout = nn.Dropout(drop_prob)\n",
    "\n",
    "        self.fc1 = nn.Linear(input_size, hidden_size)\n",
    "        self.fc2 = nn.Linear(hidden_size, output_size)\n",
    "        \n",
    "    def forward(self, x):\n",
    "        out = self.dropout(self.relu(self.fc1(x)))\n",
    "        logits = self.fc2(out)\n",
    "        \n",
    "        return logits"
   ]
  },
  {
   "cell_type": "code",
   "execution_count": 33,
   "metadata": {},
   "outputs": [],
   "source": [
    "# Hyper-parameters\n",
    "input_size = 784\n",
    "output_size = 10\n",
    "\n",
    "hidden_size = 256\n",
    "drop_prob = 0.8\n",
    "num_epochs = 5\n",
    "learning_rate = 0.001\n",
    "batch_size = 128"
   ]
  },
  {
   "cell_type": "code",
   "execution_count": 34,
   "metadata": {},
   "outputs": [],
   "source": [
    "device = torch.device('cuda' if torch.cuda.is_available() else 'cpu')"
   ]
  },
  {
   "cell_type": "markdown",
   "metadata": {},
   "source": [
    "### Non-continual Baseline"
   ]
  },
  {
   "cell_type": "code",
   "execution_count": 47,
   "metadata": {},
   "outputs": [
    {
     "name": "stderr",
     "output_type": "stream",
     "text": [
      "100%|██████████| 5/5 [00:07<00:00,  1.44s/it]\n"
     ]
    },
    {
     "name": "stdout",
     "output_type": "stream",
     "text": [
      "Loss: 0.132289, Acc: 96.040000\n"
     ]
    }
   ],
   "source": [
    "from tqdm import tqdm\n",
    "import torch.nn.functional as f\n",
    "from torch.utils.data import TensorDataset, DataLoader\n",
    "\n",
    "np.random.seed(42)\n",
    "torch.manual_seed(42)\n",
    "if device.type == 'cuda':\n",
    "    torch.cuda.manual_seed_all(42)\n",
    "\n",
    "train_data = TensorDataset(x_tr, y_tr)\n",
    "train_loader = DataLoader(train_data, shuffle=True, batch_size=batch_size)\n",
    "test_data = TensorDataset(x_te, y_te)\n",
    "test_loader = DataLoader(test_data, shuffle=True, batch_size=batch_size)\n",
    "\n",
    "model = Classifier(input_size, hidden_size, drop_prob, output_size).to(device)\n",
    "criterion = nn.CrossEntropyLoss()\n",
    "optimizer = torch.optim.Adam(model.parameters(), lr=learning_rate)\n",
    "\n",
    "model.train()\n",
    "for ep in tqdm(range(num_epochs)):\n",
    "    for inputs, labels in train_loader:\n",
    "        if device.type == 'cuda':\n",
    "            inputs, labels = inputs.cuda(), labels.cuda()\n",
    "    \n",
    "        optimizer.zero_grad()\n",
    "\n",
    "        out = model(inputs.float())\n",
    "        loss = criterion(out, labels.long())\n",
    "        loss.backward()\n",
    "\n",
    "        optimizer.step()\n",
    "\n",
    "model.eval()\n",
    "val_loss = 0\n",
    "corrects = 0\n",
    "total = 0\n",
    "for inputs, labels in test_loader:\n",
    "    if device.type == 'cuda':\n",
    "        inputs, labels = inputs.cuda(), labels.cuda()\n",
    "\n",
    "    out = model(inputs.float())\n",
    "    preds = torch.argmax(f.softmax(out, dim=-1), dim=-1).cpu().numpy()\n",
    "\n",
    "    tmp_val_loss = criterion(out, labels.long())\n",
    "    val_loss += tmp_val_loss.item()\n",
    "\n",
    "    corrects += sum(preds == labels.cpu().numpy())\n",
    "    total += len(preds)\n",
    "\n",
    "print(\"Loss: {:.6f}, Acc: {:.6f}\".format(val_loss/len(test_loader), (corrects/total)*100))"
   ]
  },
  {
   "cell_type": "markdown",
   "metadata": {},
   "source": [
    "### Continual Baseline"
   ]
  },
  {
   "cell_type": "code",
   "execution_count": 53,
   "metadata": {},
   "outputs": [
    {
     "name": "stderr",
     "output_type": "stream",
     "text": [
      "100%|██████████| 5/5 [00:01<00:00,  3.20it/s]\n",
      "  0%|          | 0/5 [00:00<?, ?it/s]"
     ]
    },
    {
     "name": "stdout",
     "output_type": "stream",
     "text": [
      "Loss: 0.930062, Acc: 70.450000\n"
     ]
    },
    {
     "name": "stderr",
     "output_type": "stream",
     "text": [
      "100%|██████████| 5/5 [00:01<00:00,  3.50it/s]\n",
      "  0%|          | 0/5 [00:00<?, ?it/s]"
     ]
    },
    {
     "name": "stdout",
     "output_type": "stream",
     "text": [
      "Loss: 0.686618, Acc: 75.830000\n"
     ]
    },
    {
     "name": "stderr",
     "output_type": "stream",
     "text": [
      "100%|██████████| 5/5 [00:01<00:00,  3.19it/s]\n",
      "  0%|          | 0/5 [00:00<?, ?it/s]"
     ]
    },
    {
     "name": "stdout",
     "output_type": "stream",
     "text": [
      "Loss: 0.531379, Acc: 81.700000\n"
     ]
    },
    {
     "name": "stderr",
     "output_type": "stream",
     "text": [
      "100%|██████████| 5/5 [00:01<00:00,  3.14it/s]\n",
      "  0%|          | 0/5 [00:00<?, ?it/s]"
     ]
    },
    {
     "name": "stdout",
     "output_type": "stream",
     "text": [
      "Loss: 0.394364, Acc: 88.470000\n"
     ]
    },
    {
     "name": "stderr",
     "output_type": "stream",
     "text": [
      "100%|██████████| 5/5 [00:01<00:00,  3.31it/s]\n",
      "  0%|          | 0/5 [00:00<?, ?it/s]"
     ]
    },
    {
     "name": "stdout",
     "output_type": "stream",
     "text": [
      "Loss: 0.402153, Acc: 88.340000\n"
     ]
    },
    {
     "name": "stderr",
     "output_type": "stream",
     "text": [
      "100%|██████████| 5/5 [00:01<00:00,  3.30it/s]\n",
      "  0%|          | 0/5 [00:00<?, ?it/s]"
     ]
    },
    {
     "name": "stdout",
     "output_type": "stream",
     "text": [
      "Loss: 0.710794, Acc: 80.110000\n"
     ]
    },
    {
     "name": "stderr",
     "output_type": "stream",
     "text": [
      "100%|██████████| 5/5 [00:01<00:00,  3.17it/s]\n",
      "  0%|          | 0/5 [00:00<?, ?it/s]"
     ]
    },
    {
     "name": "stdout",
     "output_type": "stream",
     "text": [
      "Loss: 0.687649, Acc: 76.850000\n"
     ]
    },
    {
     "name": "stderr",
     "output_type": "stream",
     "text": [
      "100%|██████████| 5/5 [00:01<00:00,  3.83it/s]\n",
      "  0%|          | 0/5 [00:00<?, ?it/s]"
     ]
    },
    {
     "name": "stdout",
     "output_type": "stream",
     "text": [
      "Loss: 0.491099, Acc: 83.690000\n"
     ]
    },
    {
     "name": "stderr",
     "output_type": "stream",
     "text": [
      "100%|██████████| 5/5 [00:01<00:00,  3.31it/s]\n",
      "  0%|          | 0/5 [00:00<?, ?it/s]"
     ]
    },
    {
     "name": "stdout",
     "output_type": "stream",
     "text": [
      "Loss: 0.486626, Acc: 84.980000\n"
     ]
    },
    {
     "name": "stderr",
     "output_type": "stream",
     "text": [
      "100%|██████████| 5/5 [00:01<00:00,  3.17it/s]\n",
      "  0%|          | 0/5 [00:00<?, ?it/s]"
     ]
    },
    {
     "name": "stdout",
     "output_type": "stream",
     "text": [
      "Loss: 0.400435, Acc: 88.060000\n"
     ]
    },
    {
     "name": "stderr",
     "output_type": "stream",
     "text": [
      "100%|██████████| 5/5 [00:01<00:00,  3.56it/s]\n",
      "  0%|          | 0/5 [00:00<?, ?it/s]"
     ]
    },
    {
     "name": "stdout",
     "output_type": "stream",
     "text": [
      "Loss: 0.981371, Acc: 64.910000\n"
     ]
    },
    {
     "name": "stderr",
     "output_type": "stream",
     "text": [
      "100%|██████████| 5/5 [00:01<00:00,  3.31it/s]\n",
      "  0%|          | 0/5 [00:00<?, ?it/s]"
     ]
    },
    {
     "name": "stdout",
     "output_type": "stream",
     "text": [
      "Loss: 0.501614, Acc: 85.140000\n"
     ]
    },
    {
     "name": "stderr",
     "output_type": "stream",
     "text": [
      "100%|██████████| 5/5 [00:01<00:00,  3.76it/s]\n",
      "  0%|          | 0/5 [00:00<?, ?it/s]"
     ]
    },
    {
     "name": "stdout",
     "output_type": "stream",
     "text": [
      "Loss: 0.507369, Acc: 84.950000\n"
     ]
    },
    {
     "name": "stderr",
     "output_type": "stream",
     "text": [
      "100%|██████████| 5/5 [00:01<00:00,  3.77it/s]\n",
      "  0%|          | 0/5 [00:00<?, ?it/s]"
     ]
    },
    {
     "name": "stdout",
     "output_type": "stream",
     "text": [
      "Loss: 0.442327, Acc: 87.240000\n"
     ]
    },
    {
     "name": "stderr",
     "output_type": "stream",
     "text": [
      "100%|██████████| 5/5 [00:01<00:00,  4.02it/s]\n",
      "  0%|          | 0/5 [00:00<?, ?it/s]"
     ]
    },
    {
     "name": "stdout",
     "output_type": "stream",
     "text": [
      "Loss: 0.498352, Acc: 83.200000\n"
     ]
    },
    {
     "name": "stderr",
     "output_type": "stream",
     "text": [
      "100%|██████████| 5/5 [00:01<00:00,  3.83it/s]\n",
      "  0%|          | 0/5 [00:00<?, ?it/s]"
     ]
    },
    {
     "name": "stdout",
     "output_type": "stream",
     "text": [
      "Loss: 1.085404, Acc: 60.140000\n"
     ]
    },
    {
     "name": "stderr",
     "output_type": "stream",
     "text": [
      "100%|██████████| 5/5 [00:01<00:00,  3.63it/s]\n",
      "  0%|          | 0/5 [00:00<?, ?it/s]"
     ]
    },
    {
     "name": "stdout",
     "output_type": "stream",
     "text": [
      "Loss: 0.494407, Acc: 85.280000\n"
     ]
    },
    {
     "name": "stderr",
     "output_type": "stream",
     "text": [
      "100%|██████████| 5/5 [00:01<00:00,  3.38it/s]\n",
      "  0%|          | 0/5 [00:00<?, ?it/s]"
     ]
    },
    {
     "name": "stdout",
     "output_type": "stream",
     "text": [
      "Loss: 0.565742, Acc: 82.800000\n"
     ]
    },
    {
     "name": "stderr",
     "output_type": "stream",
     "text": [
      "100%|██████████| 5/5 [00:01<00:00,  3.72it/s]\n",
      "  0%|          | 0/5 [00:00<?, ?it/s]"
     ]
    },
    {
     "name": "stdout",
     "output_type": "stream",
     "text": [
      "Loss: 0.442644, Acc: 87.000000\n"
     ]
    },
    {
     "name": "stderr",
     "output_type": "stream",
     "text": [
      "100%|██████████| 5/5 [00:01<00:00,  4.00it/s]\n",
      "  0%|          | 0/5 [00:00<?, ?it/s]"
     ]
    },
    {
     "name": "stdout",
     "output_type": "stream",
     "text": [
      "Loss: 0.493379, Acc: 83.740000\n"
     ]
    },
    {
     "name": "stderr",
     "output_type": "stream",
     "text": [
      "100%|██████████| 5/5 [00:01<00:00,  3.84it/s]\n",
      "  0%|          | 0/5 [00:00<?, ?it/s]"
     ]
    },
    {
     "name": "stdout",
     "output_type": "stream",
     "text": [
      "Loss: 1.086469, Acc: 60.030000\n"
     ]
    },
    {
     "name": "stderr",
     "output_type": "stream",
     "text": [
      "100%|██████████| 5/5 [00:01<00:00,  3.79it/s]\n",
      "  0%|          | 0/5 [00:00<?, ?it/s]"
     ]
    },
    {
     "name": "stdout",
     "output_type": "stream",
     "text": [
      "Loss: 0.639120, Acc: 80.340000\n"
     ]
    },
    {
     "name": "stderr",
     "output_type": "stream",
     "text": [
      "100%|██████████| 5/5 [00:01<00:00,  3.75it/s]\n",
      "  0%|          | 0/5 [00:00<?, ?it/s]"
     ]
    },
    {
     "name": "stdout",
     "output_type": "stream",
     "text": [
      "Loss: 0.472534, Acc: 86.230000\n"
     ]
    },
    {
     "name": "stderr",
     "output_type": "stream",
     "text": [
      "100%|██████████| 5/5 [00:01<00:00,  3.60it/s]\n",
      "  0%|          | 0/5 [00:00<?, ?it/s]"
     ]
    },
    {
     "name": "stdout",
     "output_type": "stream",
     "text": [
      "Loss: 0.373616, Acc: 88.880000\n"
     ]
    },
    {
     "name": "stderr",
     "output_type": "stream",
     "text": [
      "100%|██████████| 5/5 [00:01<00:00,  3.45it/s]"
     ]
    },
    {
     "name": "stdout",
     "output_type": "stream",
     "text": [
      "Loss: 0.505951, Acc: 83.920000\n",
      "Final Accs:  [88.34, 88.06, 83.2, 83.74000000000001, 83.91999999999999]  Average Final Acc:  85.452\n"
     ]
    },
    {
     "name": "stderr",
     "output_type": "stream",
     "text": [
      "\n"
     ]
    }
   ],
   "source": [
    "from tqdm import tqdm\n",
    "import torch.nn.functional as f\n",
    "from torch.utils.data import TensorDataset, DataLoader\n",
    "\n",
    "np.random.seed(42)\n",
    "torch.manual_seed(42)\n",
    "if device.type == 'cuda':\n",
    "    torch.cuda.manual_seed_all(42)\n",
    "\n",
    "all_trn_f1_mean = np.array([])\n",
    "all_val_f1_mean = np.array([])\n",
    "\n",
    "task_perm_final_accs = []\n",
    "\n",
    "# constant validation data across tasks\n",
    "test_data = TensorDataset(x_te, y_te)\n",
    "test_loader = DataLoader(test_data, shuffle=True, batch_size=batch_size)\n",
    "\n",
    "class_probs = [\n",
    "    [0.025] * 10,\n",
    "    [0.025] * 10,\n",
    "    [0.025] * 10,\n",
    "    [0.025] * 10,\n",
    "    [0.025] * 10,\n",
    "]\n",
    "\n",
    "a = 0.9\n",
    "class_probs[0][0], class_probs[0][1] = a, a\n",
    "class_probs[1][2], class_probs[1][3] = a, a\n",
    "class_probs[2][4], class_probs[2][5] = a, a\n",
    "class_probs[3][6], class_probs[3][7] = a, a\n",
    "class_probs[4][8], class_probs[4][9] = a, a\n",
    "\n",
    "for t in range(n_tasks):\n",
    "    \n",
    "    # initialize models\n",
    "    model = Classifier(input_size, hidden_size, drop_prob, output_size).to(device)\n",
    "    criterion = nn.CrossEntropyLoss()\n",
    "    learner = Learner(model, criterion, device=device)\n",
    "    \n",
    "    # task loop\n",
    "    np.random.shuffle(class_probs)\n",
    "    for T_x, T_y in skewed_split(x_tr, y_tr, class_probs):\n",
    "        train_data = TensorDataset(T_x, T_y)\n",
    "        train_loader = DataLoader(train_data, shuffle=True, batch_size=batch_size)\n",
    "\n",
    "        learner.prepare(optimizer=torch.optim.Adam, lr=learning_rate)\n",
    "\n",
    "        model.train()\n",
    "        for ep in tqdm(range(num_epochs)):\n",
    "            for inputs, labels in train_loader:\n",
    "                if device.type == 'cuda':\n",
    "                    inputs, labels = inputs.cuda(), labels.cuda()\n",
    "\n",
    "                learner.run(inputs, labels)\n",
    "\n",
    "\n",
    "        model.eval()\n",
    "        val_loss = 0\n",
    "        corrects = 0\n",
    "        total = 0\n",
    "        for inputs, labels in test_loader:\n",
    "            if device.type == 'cuda':\n",
    "                inputs, labels = inputs.cuda(), labels.cuda()\n",
    "\n",
    "            out = model(inputs.float())\n",
    "            preds = torch.argmax(f.softmax(out, dim=-1), dim=-1).cpu().numpy()\n",
    "\n",
    "            tmp_val_loss = criterion(out, labels.long())\n",
    "            val_loss += tmp_val_loss.item()\n",
    "\n",
    "            corrects += sum(preds == labels.cpu().numpy())\n",
    "            total += len(preds)\n",
    "\n",
    "        print(\"Loss: {:.6f}, Acc: {:.6f}\".format(val_loss/len(test_loader), (corrects/total)*100))\n",
    "\n",
    "    task_perm_final_accs.append((corrects/total)*100) # save final accuracy in current task permutation\n",
    "    \n",
    "print(\"Final Accs: \", task_perm_final_accs, \" Average Final Acc: \", np.array(task_perm_final_accs).mean())"
   ]
  },
  {
   "cell_type": "markdown",
   "metadata": {},
   "source": [
    "### A-GEM"
   ]
  },
  {
   "cell_type": "code",
   "execution_count": 45,
   "metadata": {},
   "outputs": [],
   "source": [
    "memory_capacity = 10240\n",
    "task_memory_size = 2048\n",
    "memory_sample_size = 64"
   ]
  },
  {
   "cell_type": "code",
   "execution_count": 52,
   "metadata": {},
   "outputs": [
    {
     "name": "stderr",
     "output_type": "stream",
     "text": [
      "100%|██████████| 5/5 [00:01<00:00,  3.77it/s]\n",
      "  0%|          | 0/5 [00:00<?, ?it/s]"
     ]
    },
    {
     "name": "stdout",
     "output_type": "stream",
     "text": [
      "Loss: 0.933185, Acc: 70.450000\n"
     ]
    },
    {
     "name": "stderr",
     "output_type": "stream",
     "text": [
      "100%|██████████| 5/5 [00:02<00:00,  1.73it/s]\n",
      "  0%|          | 0/5 [00:00<?, ?it/s]"
     ]
    },
    {
     "name": "stdout",
     "output_type": "stream",
     "text": [
      "Loss: 0.646325, Acc: 77.370000\n"
     ]
    },
    {
     "name": "stderr",
     "output_type": "stream",
     "text": [
      "100%|██████████| 5/5 [00:02<00:00,  1.92it/s]\n",
      "  0%|          | 0/5 [00:00<?, ?it/s]"
     ]
    },
    {
     "name": "stdout",
     "output_type": "stream",
     "text": [
      "Loss: 0.481755, Acc: 84.030000\n"
     ]
    },
    {
     "name": "stderr",
     "output_type": "stream",
     "text": [
      "100%|██████████| 5/5 [00:02<00:00,  1.82it/s]\n",
      "  0%|          | 0/5 [00:00<?, ?it/s]"
     ]
    },
    {
     "name": "stdout",
     "output_type": "stream",
     "text": [
      "Loss: 0.349098, Acc: 89.740000\n"
     ]
    },
    {
     "name": "stderr",
     "output_type": "stream",
     "text": [
      "100%|██████████| 5/5 [00:02<00:00,  1.87it/s]\n",
      "  0%|          | 0/5 [00:00<?, ?it/s]"
     ]
    },
    {
     "name": "stdout",
     "output_type": "stream",
     "text": [
      "Loss: 0.374982, Acc: 89.140000\n"
     ]
    },
    {
     "name": "stderr",
     "output_type": "stream",
     "text": [
      "100%|██████████| 5/5 [00:01<00:00,  3.60it/s]\n",
      "  0%|          | 0/5 [00:00<?, ?it/s]"
     ]
    },
    {
     "name": "stdout",
     "output_type": "stream",
     "text": [
      "Loss: 0.674914, Acc: 81.220000\n"
     ]
    },
    {
     "name": "stderr",
     "output_type": "stream",
     "text": [
      "100%|██████████| 5/5 [00:02<00:00,  1.95it/s]\n",
      "  0%|          | 0/5 [00:00<?, ?it/s]"
     ]
    },
    {
     "name": "stdout",
     "output_type": "stream",
     "text": [
      "Loss: 0.708715, Acc: 75.180000\n"
     ]
    },
    {
     "name": "stderr",
     "output_type": "stream",
     "text": [
      "100%|██████████| 5/5 [00:02<00:00,  2.09it/s]\n",
      "  0%|          | 0/5 [00:00<?, ?it/s]"
     ]
    },
    {
     "name": "stdout",
     "output_type": "stream",
     "text": [
      "Loss: 0.535044, Acc: 81.950000\n"
     ]
    },
    {
     "name": "stderr",
     "output_type": "stream",
     "text": [
      "100%|██████████| 5/5 [00:02<00:00,  1.86it/s]\n",
      "  0%|          | 0/5 [00:00<?, ?it/s]"
     ]
    },
    {
     "name": "stdout",
     "output_type": "stream",
     "text": [
      "Loss: 0.431891, Acc: 86.990000\n"
     ]
    },
    {
     "name": "stderr",
     "output_type": "stream",
     "text": [
      "100%|██████████| 5/5 [00:03<00:00,  1.55it/s]\n",
      "  0%|          | 0/5 [00:00<?, ?it/s]"
     ]
    },
    {
     "name": "stdout",
     "output_type": "stream",
     "text": [
      "Loss: 0.381842, Acc: 88.580000\n"
     ]
    },
    {
     "name": "stderr",
     "output_type": "stream",
     "text": [
      "100%|██████████| 5/5 [00:01<00:00,  3.21it/s]\n",
      "  0%|          | 0/5 [00:00<?, ?it/s]"
     ]
    },
    {
     "name": "stdout",
     "output_type": "stream",
     "text": [
      "Loss: 1.064345, Acc: 61.600000\n"
     ]
    },
    {
     "name": "stderr",
     "output_type": "stream",
     "text": [
      "100%|██████████| 5/5 [00:02<00:00,  1.80it/s]\n",
      "  0%|          | 0/5 [00:00<?, ?it/s]"
     ]
    },
    {
     "name": "stdout",
     "output_type": "stream",
     "text": [
      "Loss: 0.490051, Acc: 86.140000\n"
     ]
    },
    {
     "name": "stderr",
     "output_type": "stream",
     "text": [
      "100%|██████████| 5/5 [00:03<00:00,  1.57it/s]\n",
      "  0%|          | 0/5 [00:00<?, ?it/s]"
     ]
    },
    {
     "name": "stdout",
     "output_type": "stream",
     "text": [
      "Loss: 0.535656, Acc: 83.430000\n"
     ]
    },
    {
     "name": "stderr",
     "output_type": "stream",
     "text": [
      "100%|██████████| 5/5 [00:03<00:00,  1.58it/s]\n",
      "  0%|          | 0/5 [00:00<?, ?it/s]"
     ]
    },
    {
     "name": "stdout",
     "output_type": "stream",
     "text": [
      "Loss: 0.486655, Acc: 85.720000\n"
     ]
    },
    {
     "name": "stderr",
     "output_type": "stream",
     "text": [
      "100%|██████████| 5/5 [00:03<00:00,  1.74it/s]\n",
      "  0%|          | 0/5 [00:00<?, ?it/s]"
     ]
    },
    {
     "name": "stdout",
     "output_type": "stream",
     "text": [
      "Loss: 0.473829, Acc: 83.890000\n"
     ]
    },
    {
     "name": "stderr",
     "output_type": "stream",
     "text": [
      "100%|██████████| 5/5 [00:01<00:00,  3.78it/s]\n",
      "  0%|          | 0/5 [00:00<?, ?it/s]"
     ]
    },
    {
     "name": "stdout",
     "output_type": "stream",
     "text": [
      "Loss: 1.085968, Acc: 61.050000\n"
     ]
    },
    {
     "name": "stderr",
     "output_type": "stream",
     "text": [
      "100%|██████████| 5/5 [00:02<00:00,  1.91it/s]\n",
      "  0%|          | 0/5 [00:00<?, ?it/s]"
     ]
    },
    {
     "name": "stdout",
     "output_type": "stream",
     "text": [
      "Loss: 0.494040, Acc: 85.460000\n"
     ]
    },
    {
     "name": "stderr",
     "output_type": "stream",
     "text": [
      "100%|██████████| 5/5 [00:02<00:00,  1.76it/s]\n",
      "  0%|          | 0/5 [00:00<?, ?it/s]"
     ]
    },
    {
     "name": "stdout",
     "output_type": "stream",
     "text": [
      "Loss: 0.508179, Acc: 84.320000\n"
     ]
    },
    {
     "name": "stderr",
     "output_type": "stream",
     "text": [
      "100%|██████████| 5/5 [00:02<00:00,  1.91it/s]\n",
      "  0%|          | 0/5 [00:00<?, ?it/s]"
     ]
    },
    {
     "name": "stdout",
     "output_type": "stream",
     "text": [
      "Loss: 0.457037, Acc: 86.970000\n"
     ]
    },
    {
     "name": "stderr",
     "output_type": "stream",
     "text": [
      "100%|██████████| 5/5 [00:02<00:00,  2.03it/s]\n",
      "  0%|          | 0/5 [00:00<?, ?it/s]"
     ]
    },
    {
     "name": "stdout",
     "output_type": "stream",
     "text": [
      "Loss: 0.478863, Acc: 83.730000\n"
     ]
    },
    {
     "name": "stderr",
     "output_type": "stream",
     "text": [
      "100%|██████████| 5/5 [00:01<00:00,  3.30it/s]\n",
      "  0%|          | 0/5 [00:00<?, ?it/s]"
     ]
    },
    {
     "name": "stdout",
     "output_type": "stream",
     "text": [
      "Loss: 1.035301, Acc: 64.340000\n"
     ]
    },
    {
     "name": "stderr",
     "output_type": "stream",
     "text": [
      "100%|██████████| 5/5 [00:02<00:00,  1.97it/s]\n",
      "  0%|          | 0/5 [00:00<?, ?it/s]"
     ]
    },
    {
     "name": "stdout",
     "output_type": "stream",
     "text": [
      "Loss: 0.620146, Acc: 80.830000\n"
     ]
    },
    {
     "name": "stderr",
     "output_type": "stream",
     "text": [
      "100%|██████████| 5/5 [00:02<00:00,  1.88it/s]\n",
      "  0%|          | 0/5 [00:00<?, ?it/s]"
     ]
    },
    {
     "name": "stdout",
     "output_type": "stream",
     "text": [
      "Loss: 0.493666, Acc: 85.640000\n"
     ]
    },
    {
     "name": "stderr",
     "output_type": "stream",
     "text": [
      "100%|██████████| 5/5 [00:02<00:00,  1.80it/s]\n",
      "  0%|          | 0/5 [00:00<?, ?it/s]"
     ]
    },
    {
     "name": "stdout",
     "output_type": "stream",
     "text": [
      "Loss: 0.379954, Acc: 88.770000\n"
     ]
    },
    {
     "name": "stderr",
     "output_type": "stream",
     "text": [
      "100%|██████████| 5/5 [00:02<00:00,  1.90it/s]"
     ]
    },
    {
     "name": "stdout",
     "output_type": "stream",
     "text": [
      "Loss: 0.516470, Acc: 82.750000\n",
      "Final Accs:  [89.14, 88.58, 83.89, 83.73, 82.75]  Average Final Acc:  85.61800000000001\n"
     ]
    },
    {
     "name": "stderr",
     "output_type": "stream",
     "text": [
      "\n"
     ]
    }
   ],
   "source": [
    "from tqdm import tqdm\n",
    "import torch.nn.functional as f\n",
    "from torch.utils.data import TensorDataset, DataLoader\n",
    "\n",
    "np.random.seed(42)\n",
    "torch.manual_seed(42)\n",
    "if device.type == 'cuda':\n",
    "    torch.cuda.manual_seed_all(42)\n",
    "\n",
    "all_trn_f1_mean = np.array([])\n",
    "all_val_f1_mean = np.array([])\n",
    "\n",
    "task_perm_final_accs = []\n",
    "\n",
    "# constant validation data across tasks\n",
    "test_data = TensorDataset(x_te, y_te)\n",
    "test_loader = DataLoader(test_data, shuffle=True, batch_size=batch_size)\n",
    "\n",
    "class_probs = [\n",
    "    [0.025] * 10,\n",
    "    [0.025] * 10,\n",
    "    [0.025] * 10,\n",
    "    [0.025] * 10,\n",
    "    [0.025] * 10,\n",
    "]\n",
    "\n",
    "a = 0.9\n",
    "class_probs[0][0], class_probs[0][1] = a, a\n",
    "class_probs[1][2], class_probs[1][3] = a, a\n",
    "class_probs[2][4], class_probs[2][5] = a, a\n",
    "class_probs[3][6], class_probs[3][7] = a, a\n",
    "class_probs[4][8], class_probs[4][9] = a, a\n",
    "\n",
    "for t in range(n_tasks):\n",
    "    \n",
    "    # initialize models\n",
    "    model = Classifier(input_size, hidden_size, drop_prob, output_size).to(device)\n",
    "    criterion = nn.CrossEntropyLoss()\n",
    "    learner = AGEM(model, criterion, device=device,\n",
    "                   memory_capacity=memory_capacity, memory_sample_sz=memory_sample_size)\n",
    "    \n",
    "    # task loop\n",
    "    np.random.shuffle(class_probs)\n",
    "    for T_x, T_y in skewed_split(x_tr, y_tr, class_probs):\n",
    "        \n",
    "        train_data = TensorDataset(T_x, T_y)\n",
    "        train_loader = DataLoader(train_data, shuffle=True, batch_size=batch_size)\n",
    "\n",
    "        learner.prepare(optimizer=torch.optim.Adam, lr=learning_rate)\n",
    "\n",
    "        model.train()\n",
    "        for ep in tqdm(range(num_epochs)):\n",
    "            for inputs, labels in train_loader:\n",
    "                if device.type == 'cuda':\n",
    "                    inputs, labels = inputs.cuda(), labels.cuda()\n",
    "\n",
    "                learner.run(inputs, labels)\n",
    "\n",
    "        # remember a subset\n",
    "        learner.remember(train_data, min_save_sz=task_memory_size)\n",
    "                \n",
    "        model.eval()\n",
    "        val_loss = 0\n",
    "        corrects = 0\n",
    "        total = 0\n",
    "        for inputs, labels in test_loader:\n",
    "            if device.type == 'cuda':\n",
    "                inputs, labels = inputs.cuda(), labels.cuda()\n",
    "\n",
    "            out = model(inputs.float())\n",
    "            preds = torch.argmax(f.softmax(out, dim=-1), dim=-1).cpu().numpy()\n",
    "\n",
    "            tmp_val_loss = criterion(out, labels.long())\n",
    "            val_loss += tmp_val_loss.item()\n",
    "\n",
    "            corrects += sum(preds == labels.cpu().numpy())\n",
    "            total += len(preds)\n",
    "\n",
    "        print(\"Loss: {:.6f}, Acc: {:.6f}\".format(val_loss/len(test_loader), (corrects/total)*100))\n",
    "\n",
    "    task_perm_final_accs.append((corrects/total)*100) # save final accuracy in current task permutation\n",
    "    \n",
    "print(\"Final Accs: \", task_perm_final_accs, \" Average Final Acc: \", np.array(task_perm_final_accs).mean())"
   ]
  },
  {
   "cell_type": "code",
   "execution_count": null,
   "metadata": {},
   "outputs": [],
   "source": []
  }
 ],
 "metadata": {
  "kernelspec": {
   "display_name": "Python 3",
   "language": "python",
   "name": "python3"
  },
  "language_info": {
   "codemirror_mode": {
    "name": "ipython",
    "version": 3
   },
   "file_extension": ".py",
   "mimetype": "text/x-python",
   "name": "python",
   "nbconvert_exporter": "python",
   "pygments_lexer": "ipython3",
   "version": "3.6.6"
  }
 },
 "nbformat": 4,
 "nbformat_minor": 2
}
